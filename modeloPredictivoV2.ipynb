{
 "cells": [
  {
   "cell_type": "code",
   "execution_count": null,
   "metadata": {
    "vscode": {
     "languageId": "plaintext"
    }
   },
   "outputs": [],
   "source": [
    "# Importar librerías\n",
    "\n",
    "import pandas as pd\n",
    "import numpy as np\n",
    "import matplotlib.pyplot as plt\n",
    "import tensorflow as tf\n",
    "from tensorflow import keras\n",
    "from tensorflow.keras.models import Sequential\n",
    "from tensorflow.keras.layers import LSTM, Dense, Dropout\n",
    "from sklearn.preprocessing import MinMaxScaler"
   ]
  },
  {
   "cell_type": "code",
   "execution_count": null,
   "metadata": {
    "vscode": {
     "languageId": "plaintext"
    }
   },
   "outputs": [],
   "source": [
    "\n",
    "\n",
    "# Cargar datos\n",
    "df = pd.read_csv(\"datos_ipsa.csv\")  # Debe tener \"Date\" y \"Price\"\n",
    "df[\"Date\"] = pd.to_datetime(df[\"Date\"])\n",
    "df = df.sort_values(\"Date\")  # Asegurar orden temporal\n",
    "\n",
    "# Normalizar precios entre 0 y 1\n",
    "scaler = MinMaxScaler(feature_range=(0, 1))\n",
    "df[\"Price\"] = scaler.fit_transform(df[\"Price\"].values.reshape(-1, 1))\n",
    "\n",
    "# Crear datos de entrenamiento con ventanas de tiempo\n",
    "def crear_secuencias(datos, ventana=30):\n",
    "    X, y = [], []\n",
    "    for i in range(len(datos) - ventana):\n",
    "        X.append(datos[i:i+ventana])\n",
    "        y.append(datos[i+ventana])\n",
    "    return np.array(X), np.array(y)\n",
    "\n",
    "ventana = 30  # Usar los últimos 30 días para predecir\n",
    "X, y = crear_secuencias(df[\"Price\"].values, ventana)\n",
    "\n",
    "# Dividir datos en entrenamiento y prueba\n",
    "X_train, X_test = X[:int(0.8*len(X))], X[int(0.8*len(X)):]\n",
    "y_train, y_test = y[:int(0.8*len(y))], y[int(0.8*len(y)):]\n",
    "\n",
    "# Reshape para LSTM (samples, timesteps, features)\n",
    "X_train = np.reshape(X_train, (X_train.shape[0], X_train.shape[1], 1))\n",
    "X_test = np.reshape(X_test, (X_test.shape[0], X_test.shape[1], 1))\n",
    "\n",
    "# Definir modelo LSTM\n",
    "modelo = Sequential([\n",
    "    LSTM(50, return_sequences=True, input_shape=(X_train.shape[1], 1)),\n",
    "    Dropout(0.2),\n",
    "    LSTM(50, return_sequences=False),\n",
    "    Dropout(0.2),\n",
    "    Dense(25),\n",
    "    Dense(1)\n",
    "])\n",
    "\n",
    "# Compilar modelo\n",
    "modelo.compile(optimizer=\"adam\", loss=\"mean_squared_error\")\n",
    "\n",
    "# Entrenar modelo\n",
    "modelo.fit(X_train, y_train, batch_size=16, epochs=20, validation_data=(X_test, y_test))\n",
    "\n",
    "# Hacer predicción para mañana\n",
    "ultimos_datos = df[\"Price\"].values[-ventana:].reshape(1, ventana, 1)\n",
    "prediccion = modelo.predict(ultimos_datos)\n",
    "prediccion_real = scaler.inverse_transform(prediccion.reshape(-1, 1))\n",
    "\n",
    "print(f\"Predicción del IPSA para mañana: {prediccion_real[0][0]:.2f}\")\n",
    "\n",
    "# Graficar predicciones vs. reales\n",
    "predicciones = modelo.predict(X_test)\n",
    "predicciones_real = scaler.inverse_transform(predicciones.reshape(-1, 1))\n",
    "y_test_real = scaler.inverse_transform(y_test.reshape(-1, 1))\n",
    "\n",
    "plt.figure(figsize=(10, 5))\n",
    "plt.plot(y_test_real, label=\"Real\")\n",
    "plt.plot(predicciones_real, label=\"Predicho\", linestyle=\"dashed\")\n",
    "plt.legend()\n",
    "plt.title(\"Predicción del IPSA con LSTM\")\n",
    "plt.show()\n"
   ]
  }
 ],
 "metadata": {
  "language_info": {
   "name": "python"
  }
 },
 "nbformat": 4,
 "nbformat_minor": 2
}
