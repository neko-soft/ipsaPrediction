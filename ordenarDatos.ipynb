{
 "cells": [
  {
   "cell_type": "code",
   "execution_count": 35,
   "metadata": {},
   "outputs": [],
   "source": [
    "# Este script es sólamente para odenar los datos dentro de la carpeta ./datosHistoricos/\n",
    "\n",
    "\n",
    "import pandas as pd\n",
    "import os\n",
    "\n",
    "\n",
    "pathsArchivos = [\"datosHistoricos/PerformanceGraphExport.xls\",\n",
    "                 \"datosHistoricos/S&P CLX IPSA Historical Data 2000-02-10 hasta 2015-02-27.csv\",\n",
    "                 \"datosHistoricos/S&P CLX IPSA Historical Data 1993-09-26 hasta 2013-10-08.csv\"]\n",
    "\n",
    "\n",
    "\n",
    "\n"
   ]
  },
  {
   "cell_type": "code",
   "execution_count": 36,
   "metadata": {},
   "outputs": [
    {
     "name": "stdout",
     "output_type": "stream",
     "text": [
      "          Fecha  Valor IPSA\n",
      "0    2025-03-12     7391.30\n",
      "1    2025-03-11     7365.82\n",
      "2    2025-03-10     7369.67\n",
      "3    2025-03-07     7377.09\n",
      "4    2025-03-06     7370.32\n",
      "...         ...         ...\n",
      "2493 2015-03-05     3952.89\n",
      "2494 2015-03-04     3963.00\n",
      "2495 2015-03-03     3966.17\n",
      "2496 2015-03-02     3940.95\n",
      "2497 2015-02-27     3983.72\n",
      "\n",
      "[2498 rows x 2 columns]\n"
     ]
    }
   ],
   "source": [
    "df1 = pd.read_excel(pathsArchivos[0], skiprows=6, usecols=\"A:B\", nrows=2498)\n",
    "df1.columns = [\"Fecha\", \"Valor IPSA\"]\n",
    "\n",
    "# Convierte el formato de la fecha a un formato decente\n",
    "df1[\"Fecha\"] = pd.to_datetime(df1[\"Fecha\"], errors=\"coerce\")\n",
    "\n",
    "# Invierte el órden para que quede ordenada por más reciente primero\n",
    "df1 = df1.iloc[::-1].reset_index(drop=True)\n",
    "\n",
    "print(df1)\n"
   ]
  },
  {
   "cell_type": "code",
   "execution_count": 37,
   "metadata": {},
   "outputs": [
    {
     "name": "stdout",
     "output_type": "stream",
     "text": [
      "          Fecha  Valor IPSA\n",
      "0    2015-02-26     3988.89\n",
      "1    2015-02-25     3986.05\n",
      "2    2015-02-24     3987.49\n",
      "3    2015-02-23     4024.08\n",
      "4    2015-02-20     3994.14\n",
      "...         ...         ...\n",
      "3746 2000-02-16     1172.24\n",
      "3747 2000-02-15     1190.25\n",
      "3748 2000-02-14     1201.72\n",
      "3749 2000-02-11     1223.44\n",
      "3750 2000-02-10     1218.15\n",
      "\n",
      "[3751 rows x 2 columns]\n"
     ]
    }
   ],
   "source": [
    "# Para el archivo de Investing.com 2000 - 2015\n",
    "df2 = pd.read_csv(pathsArchivos[1])\n",
    "df2 = df2.iloc[:, :2]\n",
    "df2.columns = [\"Fecha\", \"Valor IPSA\"]\n",
    "\n",
    "# Convierte el formato de la fecha a un formato decente\n",
    "df2[\"Fecha\"] = pd.to_datetime(df2[\"Fecha\"], errors=\"coerce\")\n",
    "\n",
    "\n",
    "print(df2)"
   ]
  },
  {
   "cell_type": "code",
   "execution_count": 38,
   "metadata": {},
   "outputs": [
    {
     "name": "stdout",
     "output_type": "stream",
     "text": [
      "          Fecha  Valor IPSA\n",
      "0    2000-02-09     1225.92\n",
      "1    2000-02-08     1232.44\n",
      "2    2000-02-07     1213.65\n",
      "3    2000-02-04     1214.21\n",
      "4    2000-02-03     1186.08\n",
      "...         ...         ...\n",
      "1588 1993-10-01      541.61\n",
      "1589 1993-09-30      539.48\n",
      "1590 1993-09-29      541.05\n",
      "1591 1993-09-28      541.05\n",
      "1592 1993-09-27      538.01\n",
      "\n",
      "[1593 rows x 2 columns]\n"
     ]
    }
   ],
   "source": [
    "# Para el archivo de Investing.com 1993 - 2000\n",
    "df3 = pd.read_csv(pathsArchivos[2])\n",
    "df3 = df3.iloc[:, :2]\n",
    "df3.columns = [\"Fecha\", \"Valor IPSA\"]\n",
    "\n",
    "# Convierte el formato de la fecha a un formato decente\n",
    "df3[\"Fecha\"] = pd.to_datetime(df3[\"Fecha\"], errors=\"coerce\")\n",
    "\n",
    "print(df3)\n",
    "\n"
   ]
  },
  {
   "cell_type": "code",
   "execution_count": 40,
   "metadata": {},
   "outputs": [
    {
     "name": "stdout",
     "output_type": "stream",
     "text": [
      "          Fecha  Valor IPSA\n",
      "0    1993-09-27      538.01\n",
      "1    1993-09-28      541.05\n",
      "2    1993-09-29      541.05\n",
      "3    1993-09-30      539.48\n",
      "4    1993-10-01      541.61\n",
      "...         ...         ...\n",
      "7837 2025-03-06     7370.32\n",
      "7838 2025-03-07     7377.09\n",
      "7839 2025-03-10     7369.67\n",
      "7840 2025-03-11     7365.82\n",
      "7841 2025-03-12     7391.30\n",
      "\n",
      "[7842 rows x 2 columns]\n"
     ]
    }
   ],
   "source": [
    "dfCompleto = pd.concat([df1, df2, df3], ignore_index=True)\n",
    "\n",
    "# Invierte el sentido de las columnas, para que quede de más antiguo primero.\n",
    "dfCompleto = dfCompleto.iloc[::-1].reset_index(drop=True)\n",
    "\n",
    "print(dfCompleto)\n",
    "\n",
    "dfCompleto.to_csv(\"ipsaCompleto.csv\", index=False)"
   ]
  },
  {
   "cell_type": "code",
   "execution_count": null,
   "metadata": {},
   "outputs": [],
   "source": []
  }
 ],
 "metadata": {
  "kernelspec": {
   "display_name": "Python 3 (ipykernel)",
   "language": "python",
   "name": "python3"
  },
  "language_info": {
   "codemirror_mode": {
    "name": "ipython",
    "version": 3
   },
   "file_extension": ".py",
   "mimetype": "text/x-python",
   "name": "python",
   "nbconvert_exporter": "python",
   "pygments_lexer": "ipython3",
   "version": "3.11.11"
  }
 },
 "nbformat": 4,
 "nbformat_minor": 4
}
