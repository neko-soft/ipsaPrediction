{
 "cells": [
  {
   "cell_type": "code",
   "execution_count": 12,
   "metadata": {},
   "outputs": [
    {
     "name": "stderr",
     "output_type": "stream",
     "text": [
      "[*********************100%***********************]  1 of 1 completed"
     ]
    },
    {
     "name": "stdout",
     "output_type": "stream",
     "text": [
      "¡Dato agregado con éxito!\n"
     ]
    },
    {
     "name": "stderr",
     "output_type": "stream",
     "text": [
      "\n",
      "/tmp/nix-shell.1xrDnT/ipykernel_69816/2739033868.py:17: FutureWarning: Series.__getitem__ treating keys as positions is deprecated. In a future version, integer keys will always be treated as labels (consistent with DataFrame behavior). To access a value by position, use `ser.iloc[pos]`\n",
      "  new_row = pd.DataFrame({'Fecha': [date_today], 'Valor IPSA': [round(price_today[0],2)]})\n"
     ]
    }
   ],
   "source": [
    "import yfinance as yf\n",
    "import pandas as pd\n",
    "from datetime import datetime\n",
    "\n",
    "# Obtén el precio de hoy\n",
    "data = yf.download(\"^IPSA\", period=\"1d\")\n",
    "price_today = data['Close'].iloc[0]\n",
    "\n",
    "\n",
    "\n",
    "date_today = datetime.today().strftime('%Y-%m-%d')\n",
    "\n",
    "# Carga tu archivo CSV\n",
    "df = pd.read_csv(\"ipsaCompleto.csv\")\n",
    "\n",
    "# Agrega el dato de hoy al final\n",
    "new_row = pd.DataFrame({'Fecha': [date_today], 'Valor IPSA': [round(price_today[0],2)]})\n",
    "df = pd.concat([df, new_row], ignore_index=True)\n",
    "#print(df)\n",
    "\n",
    "# Guarda el DataFrame actualizado en el CSV\n",
    "df.to_csv('ipsaCompletoActualizable.csv', index=False)\n",
    "\n",
    "print(\"¡Dato agregado con éxito!\")\n",
    "\n"
   ]
  },
  {
   "cell_type": "code",
   "execution_count": null,
   "metadata": {},
   "outputs": [],
   "source": []
  }
 ],
 "metadata": {
  "kernelspec": {
   "display_name": "Python 3 (ipykernel)",
   "language": "python",
   "name": "python3"
  },
  "language_info": {
   "codemirror_mode": {
    "name": "ipython",
    "version": 3
   },
   "file_extension": ".py",
   "mimetype": "text/x-python",
   "name": "python",
   "nbconvert_exporter": "python",
   "pygments_lexer": "ipython3",
   "version": "3.11.11"
  }
 },
 "nbformat": 4,
 "nbformat_minor": 4
}
