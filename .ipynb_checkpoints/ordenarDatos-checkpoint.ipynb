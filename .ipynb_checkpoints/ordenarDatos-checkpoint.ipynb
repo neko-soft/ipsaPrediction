{
 "cells": [
  {
   "cell_type": "code",
   "execution_count": null,
   "metadata": {
    "vscode": {
     "languageId": "plaintext"
    }
   },
   "outputs": [],
   "source": [
    "# Este script es sólamente para odenar los datos dentro de la carpeta ./datosHistoricos/\n",
    "\n",
    "\n",
    "import pandas as pd\n",
    "import os\n",
    "\n",
    "\n",
    "pathsArchivos = [\"datosHistoricos/PerformanceGraphExport.xls\",\n",
    "                 \"datosHistoricos/S&P CLX IPSA Historical Data 2000-02-10 hasta 2015-02-27.csv\",\n",
    "                 \"datosHistoricos/S&P CLX IPSA Historical Data 1993-09-26 hasta 2013-10-08.csv\"]\n",
    "\n",
    "\n",
    "for archivo in pathsArchivos:\n",
    "    if archivo.endswith('.csv'):\n",
    "        df = pd.read_csv(archivo)\n",
    "        print (df)\n",
    "    elif archivo.endswith('xls'):\n",
    "        df = pd.read_excel(archivo)\n",
    "        print(df)\n",
    "\n"
   ]
  }
 ],
 "metadata": {
  "language_info": {
   "name": "python"
  }
 },
 "nbformat": 4,
 "nbformat_minor": 2
}
